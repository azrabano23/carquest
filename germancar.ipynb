{
  "nbformat": 4,
  "nbformat_minor": 0,
  "metadata": {
    "colab": {
      "provenance": [],
      "authorship_tag": "ABX9TyPeDdVJBkzpWrmD4H12pWPX",
      "include_colab_link": true
    },
    "kernelspec": {
      "name": "python3",
      "display_name": "Python 3"
    },
    "language_info": {
      "name": "python"
    }
  },
  "cells": [
    {
      "cell_type": "markdown",
      "metadata": {
        "id": "view-in-github",
        "colab_type": "text"
      },
      "source": [
        "<a href=\"https://colab.research.google.com/github/azrabano23/carquest/blob/main/germancar.ipynb\" target=\"_parent\"><img src=\"https://colab.research.google.com/assets/colab-badge.svg\" alt=\"Open In Colab\"/></a>"
      ]
    },
    {
      "cell_type": "code",
      "execution_count": null,
      "metadata": {
        "colab": {
          "base_uri": "https://localhost:8080/"
        },
        "id": "-flEcH32w2hv",
        "outputId": "8448fa76-cf4b-4203-e9de-7181ddaf6954"
      },
      "outputs": [
        {
          "output_type": "stream",
          "name": "stdout",
          "text": [
            "Column names in the dataset: ['Brand', 'Model', 'Year', 'Mileage', 'Fuel Type', 'Fuel Consumption (L/100km)', 'Horsepower (HP)', 'Transmission', 'Price ', 'City']\n",
            "Updated column names: ['Brand', 'Model', 'Year', 'Mileage', 'Fuel Type', 'Fuel Consumption (L/100km)', 'Horsepower (HP)', 'Transmission', 'Price', 'City']\n",
            "Mean Squared Error: 865257586.2863644\n",
            "R-squared: -0.11411018942439632\n",
            "Welcome to the Car Recommender System!\n",
            "Select Brand (Audi, BMW, Mercedes, Opel, Porsche, Volkswagen): BMW\n",
            "Enter Minimum Price (in €): 100000\n",
            "Enter Maximum Price (in €): 1000000000\n",
            "Select City (Berlin, Cologne, Frankfurt, Hamburg, Munich): Munich\n",
            "No cars match your criteria.\n",
            "Ask a question about the dataset (e.g., What is the most fuel-efficient car?): What is the most fuel-efficient car?\n",
            "The most fuel-efficient car is 16.0 with 3.0 L/100km.\n"
          ]
        }
      ],
      "source": [
        "import pandas as pd\n",
        "import sqlite3\n",
        "from sklearn.model_selection import train_test_split\n",
        "from sklearn.ensemble import RandomForestRegressor\n",
        "from sklearn.preprocessing import LabelEncoder\n",
        "from sklearn.metrics import mean_squared_error, r2_score\n",
        "\n",
        "file_path = \"germany_auto_industry_dataset.csv\"  # Replace with your file path\n",
        "data = pd.read_csv(file_path)\n",
        "\n",
        "print(\"Column names in the dataset:\", data.columns.tolist())\n",
        "\n",
        "data.columns = data.columns.str.strip()\n",
        "\n",
        "data.rename(columns={\"Price (€)\": \"Price\"}, inplace=True)\n",
        "\n",
        "print(\"Updated column names:\", data.columns.tolist())\n",
        "\n",
        "label_encoders = {}\n",
        "for column in ['Brand', 'Model', 'Fuel Type', 'Transmission', 'City']:\n",
        "    le = LabelEncoder()\n",
        "    data[column] = le.fit_transform(data[column])\n",
        "    label_encoders[column] = le\n",
        "\n",
        "# Handle missing values if any\n",
        "data.fillna(data.median(), inplace=True)\n",
        "\n",
        "X = data[['Brand', 'Year', 'Mileage', 'Fuel Type', 'Fuel Consumption (L/100km)', 'Horsepower (HP)', 'Transmission']]\n",
        "y = data['Price']\n",
        "\n",
        "# Split the data\n",
        "X_train, X_test, y_train, y_test = train_test_split(X, y, test_size=0.2, random_state=42)\n",
        "\n",
        "# train a Random Forest Regressor model\n",
        "model = RandomForestRegressor(random_state=42)\n",
        "model.fit(X_train, y_train)\n",
        "\n",
        "# eval the model\n",
        "y_pred = model.predict(X_test)\n",
        "\n",
        "# regression metrics for evaluation\n",
        "mse = mean_squared_error(y_test, y_pred)\n",
        "r2 = r2_score(y_test, y_pred)\n",
        "print(f\"Mean Squared Error: {mse}\")\n",
        "print(f\"R-squared: {r2}\")\n",
        "\n",
        "# create SQLite database and save the data\n",
        "conn = sqlite3.connect('car_recommender.db')\n",
        "data.to_sql('cars', conn, if_exists='replace', index=False)\n",
        "\n",
        "def query_database(query):\n",
        "    return pd.read_sql_query(query, conn)\n",
        "\n",
        "print(\"Welcome to the Car Recommender System!\")\n",
        "\n",
        "brand = input(f\"Select Brand ({', '.join(label_encoders['Brand'].classes_)}): \")\n",
        "min_price = int(input(f\"Enter Minimum Price (in €): \"))\n",
        "max_price = int(input(f\"Enter Maximum Price (in €): \"))\n",
        "city = input(f\"Select City ({', '.join(label_encoders['City'].classes_)}): \")\n",
        "\n",
        "# conv user input to encoded values with validation\n",
        "try:\n",
        "    brand_encoded = label_encoders['Brand'].transform([brand])[0]\n",
        "except ValueError:\n",
        "    print(f\"Invalid brand. Please select from: {', '.join(label_encoders['Brand'].classes_)}\")\n",
        "    exit()\n",
        "\n",
        "try:\n",
        "    city_encoded = label_encoders['City'].transform([city])[0]\n",
        "except ValueError:\n",
        "    print(f\"Invalid city. Please select from: {', '.join(label_encoders['City'].classes_)}\")\n",
        "    exit()\n",
        "\n",
        "query = f\"\"\"\n",
        "SELECT * FROM cars WHERE Brand = {brand_encoded} AND Price >= {min_price} AND Price <= {max_price} AND City = {city_encoded}\n",
        "\"\"\"\n",
        "recommendations = query_database(query)\n",
        "\n",
        "# Display recommendations\n",
        "if not recommendations.empty:\n",
        "    print(\"Recommended Cars:\")\n",
        "    print(recommendations)\n",
        "else:\n",
        "    print(\"No cars match your criteria.\")\n",
        "\n",
        "\n",
        "prompt = input(\"Ask a question about the dataset (e.g., What is the most fuel-efficient car?): \")\n",
        "\n",
        "if \"fuel-efficient\" in prompt.lower():\n",
        "    fuel_efficient_car = data.loc[data['Fuel Consumption (L/100km)'].idxmin()]\n",
        "    print(f\"The most fuel-efficient car is {fuel_efficient_car['Model']} with {fuel_efficient_car['Fuel Consumption (L/100km)']} L/100km.\")\n",
        "else:\n",
        "    print(\"Sorry, I can't answer that question yet.\")\n"
      ]
    }
  ]
}